{
 "cells": [
  {
   "cell_type": "code",
   "execution_count": null,
   "id": "0ee3b38d",
   "metadata": {},
   "outputs": [],
   "source": [
    "from src.features import "
   ]
  }
 ],
 "metadata": {
  "kernelspec": {
   "display_name": ".dealmonitor_ml_venv",
   "language": "python",
   "name": "python3"
  },
  "language_info": {
   "name": "python",
   "version": "3.12.3"
  }
 },
 "nbformat": 4,
 "nbformat_minor": 5
}
